{
 "cells": [
  {
   "cell_type": "code",
   "execution_count": 1,
   "metadata": {},
   "outputs": [],
   "source": [
    "import numpy as np\n",
    "import matplotlib.pyplot as plt\n",
    "import pandas as pd\n"
   ]
  },
  {
   "cell_type": "code",
   "execution_count": 2,
   "metadata": {},
   "outputs": [],
   "source": [
    "#url = \"https://archive.ics.uci.edu/ml/machine-learning-databases/iris/iris.data\"\n",
    "\n",
    "# Assign colum names to the dataset\n",
    "names = ['sepal-length', 'sepal-width', 'petal-length', 'petal-width', 'Class']\n",
    "\n",
    "\n",
    "dataset = pd.read_csv(\"./Perfomance&Infra_Each15min_DatabaseLast48h.csv\", index_col=0).fillna(0)\n",
    "\n",
    "# Read dataset to pandas dataframe\n",
    "#dataset = pd.read_csv(url, names=names)"
   ]
  },
  {
   "cell_type": "code",
   "execution_count": 3,
   "metadata": {},
   "outputs": [
    {
     "data": {
      "text/html": [
       "<div>\n",
       "<style scoped>\n",
       "    .dataframe tbody tr th:only-of-type {\n",
       "        vertical-align: middle;\n",
       "    }\n",
       "\n",
       "    .dataframe tbody tr th {\n",
       "        vertical-align: top;\n",
       "    }\n",
       "\n",
       "    .dataframe thead th {\n",
       "        text-align: right;\n",
       "    }\n",
       "</style>\n",
       "<table border=\"1\" class=\"dataframe\">\n",
       "  <thead>\n",
       "    <tr style=\"text-align: right;\">\n",
       "      <th></th>\n",
       "      <th>jvm</th>\n",
       "      <th>group</th>\n",
       "      <th>sourcetype</th>\n",
       "      <th>methodAERO</th>\n",
       "      <th>avgResponseTime</th>\n",
       "      <th>JDBCStats_avgWaitingForConnectionsHigh</th>\n",
       "      <th>JDBCStats_latestWaitingForConnectionsTotal</th>\n",
       "      <th>JDBCStats_avgActiveConnectionsHigh</th>\n",
       "      <th>JDBCStats_avgActiveConnectionsCurrent</th>\n",
       "      <th>JDBCStats_avgCurrentCapacity</th>\n",
       "      <th>...</th>\n",
       "      <th>ManagedServerStats_avgHeapSizeMax</th>\n",
       "      <th>ManagedServerStats_avgHeapSizeCurrent</th>\n",
       "      <th>ManagedServerStats_avgJVMUp</th>\n",
       "      <th>ThreadPoolStats_avgTotalThreads</th>\n",
       "      <th>ThreadPoolStats_avgInUseThreads</th>\n",
       "      <th>ThreadPoolStats_avgIdleThreads</th>\n",
       "      <th>ThreadPoolStats_avgHoggingThreads</th>\n",
       "      <th>ThreadPoolStats_avgPendingRequests</th>\n",
       "      <th>ThreadPoolStats_avgQueueLength</th>\n",
       "      <th>ThreadPoolStats_avgThroughput</th>\n",
       "    </tr>\n",
       "    <tr>\n",
       "      <th>_time</th>\n",
       "      <th></th>\n",
       "      <th></th>\n",
       "      <th></th>\n",
       "      <th></th>\n",
       "      <th></th>\n",
       "      <th></th>\n",
       "      <th></th>\n",
       "      <th></th>\n",
       "      <th></th>\n",
       "      <th></th>\n",
       "      <th></th>\n",
       "      <th></th>\n",
       "      <th></th>\n",
       "      <th></th>\n",
       "      <th></th>\n",
       "      <th></th>\n",
       "      <th></th>\n",
       "      <th></th>\n",
       "      <th></th>\n",
       "      <th></th>\n",
       "      <th></th>\n",
       "    </tr>\n",
       "  </thead>\n",
       "  <tbody>\n",
       "    <tr>\n",
       "      <th>2019-11-19T06:30:00.000-0600</th>\n",
       "      <td>AEROAssetSearchServerDRRO002A</td>\n",
       "      <td>svc_bil_aeroassetsearch-getAsset</td>\n",
       "      <td>svc_bil_aeroassetsearch</td>\n",
       "      <td>0.0</td>\n",
       "      <td>0.239816</td>\n",
       "      <td>24.0</td>\n",
       "      <td>525.0</td>\n",
       "      <td>25.0</td>\n",
       "      <td>0.333333</td>\n",
       "      <td>10.0</td>\n",
       "      <td>...</td>\n",
       "      <td>1.064829e+09</td>\n",
       "      <td>3.309972e+08</td>\n",
       "      <td>4.479546e+09</td>\n",
       "      <td>52.0</td>\n",
       "      <td>2.0</td>\n",
       "      <td>1.0</td>\n",
       "      <td>0.0</td>\n",
       "      <td>0.0</td>\n",
       "      <td>0.0</td>\n",
       "      <td>15.833333</td>\n",
       "    </tr>\n",
       "    <tr>\n",
       "      <th>2019-11-19T06:30:00.000-0600</th>\n",
       "      <td>AEROAssetSearchServerDRRO002A</td>\n",
       "      <td>svc_bil_aeroassetsearch-searchAssetByChild</td>\n",
       "      <td>svc_bil_aeroassetsearch</td>\n",
       "      <td>0.0</td>\n",
       "      <td>0.061444</td>\n",
       "      <td>24.0</td>\n",
       "      <td>525.0</td>\n",
       "      <td>25.0</td>\n",
       "      <td>0.333333</td>\n",
       "      <td>10.0</td>\n",
       "      <td>...</td>\n",
       "      <td>1.064829e+09</td>\n",
       "      <td>3.309972e+08</td>\n",
       "      <td>4.479546e+09</td>\n",
       "      <td>52.0</td>\n",
       "      <td>2.0</td>\n",
       "      <td>1.0</td>\n",
       "      <td>0.0</td>\n",
       "      <td>0.0</td>\n",
       "      <td>0.0</td>\n",
       "      <td>15.833333</td>\n",
       "    </tr>\n",
       "    <tr>\n",
       "      <th>2019-11-19T06:30:00.000-0600</th>\n",
       "      <td>AEROAssetSearchServerDRRO002A</td>\n",
       "      <td>svc_bil_aeroassetsearch-searchAssetByIdList</td>\n",
       "      <td>svc_bil_aeroassetsearch</td>\n",
       "      <td>0.0</td>\n",
       "      <td>0.201724</td>\n",
       "      <td>24.0</td>\n",
       "      <td>525.0</td>\n",
       "      <td>25.0</td>\n",
       "      <td>0.333333</td>\n",
       "      <td>10.0</td>\n",
       "      <td>...</td>\n",
       "      <td>1.064829e+09</td>\n",
       "      <td>3.309972e+08</td>\n",
       "      <td>4.479546e+09</td>\n",
       "      <td>52.0</td>\n",
       "      <td>2.0</td>\n",
       "      <td>1.0</td>\n",
       "      <td>0.0</td>\n",
       "      <td>0.0</td>\n",
       "      <td>0.0</td>\n",
       "      <td>15.833333</td>\n",
       "    </tr>\n",
       "    <tr>\n",
       "      <th>2019-11-19T06:30:00.000-0600</th>\n",
       "      <td>AEROAssetSearchServerDRRO002B</td>\n",
       "      <td>svc_bil_aeroassetsearch-getAsset</td>\n",
       "      <td>svc_bil_aeroassetsearch</td>\n",
       "      <td>0.0</td>\n",
       "      <td>0.303125</td>\n",
       "      <td>17.0</td>\n",
       "      <td>522.0</td>\n",
       "      <td>25.0</td>\n",
       "      <td>0.000000</td>\n",
       "      <td>10.0</td>\n",
       "      <td>...</td>\n",
       "      <td>1.065878e+09</td>\n",
       "      <td>3.385032e+08</td>\n",
       "      <td>4.479575e+09</td>\n",
       "      <td>45.0</td>\n",
       "      <td>2.0</td>\n",
       "      <td>0.0</td>\n",
       "      <td>0.0</td>\n",
       "      <td>0.0</td>\n",
       "      <td>0.0</td>\n",
       "      <td>15.246730</td>\n",
       "    </tr>\n",
       "    <tr>\n",
       "      <th>2019-11-19T06:30:00.000-0600</th>\n",
       "      <td>AEROAssetSearchServerDRRO002B</td>\n",
       "      <td>svc_bil_aeroassetsearch-searchAssetByChild</td>\n",
       "      <td>svc_bil_aeroassetsearch</td>\n",
       "      <td>0.0</td>\n",
       "      <td>0.078922</td>\n",
       "      <td>17.0</td>\n",
       "      <td>522.0</td>\n",
       "      <td>25.0</td>\n",
       "      <td>0.000000</td>\n",
       "      <td>10.0</td>\n",
       "      <td>...</td>\n",
       "      <td>1.065878e+09</td>\n",
       "      <td>3.385032e+08</td>\n",
       "      <td>4.479575e+09</td>\n",
       "      <td>45.0</td>\n",
       "      <td>2.0</td>\n",
       "      <td>0.0</td>\n",
       "      <td>0.0</td>\n",
       "      <td>0.0</td>\n",
       "      <td>0.0</td>\n",
       "      <td>15.246730</td>\n",
       "    </tr>\n",
       "  </tbody>\n",
       "</table>\n",
       "<p>5 rows × 26 columns</p>\n",
       "</div>"
      ],
      "text/plain": [
       "                                                        jvm  \\\n",
       "_time                                                         \n",
       "2019-11-19T06:30:00.000-0600  AEROAssetSearchServerDRRO002A   \n",
       "2019-11-19T06:30:00.000-0600  AEROAssetSearchServerDRRO002A   \n",
       "2019-11-19T06:30:00.000-0600  AEROAssetSearchServerDRRO002A   \n",
       "2019-11-19T06:30:00.000-0600  AEROAssetSearchServerDRRO002B   \n",
       "2019-11-19T06:30:00.000-0600  AEROAssetSearchServerDRRO002B   \n",
       "\n",
       "                                                                    group  \\\n",
       "_time                                                                       \n",
       "2019-11-19T06:30:00.000-0600             svc_bil_aeroassetsearch-getAsset   \n",
       "2019-11-19T06:30:00.000-0600   svc_bil_aeroassetsearch-searchAssetByChild   \n",
       "2019-11-19T06:30:00.000-0600  svc_bil_aeroassetsearch-searchAssetByIdList   \n",
       "2019-11-19T06:30:00.000-0600             svc_bil_aeroassetsearch-getAsset   \n",
       "2019-11-19T06:30:00.000-0600   svc_bil_aeroassetsearch-searchAssetByChild   \n",
       "\n",
       "                                           sourcetype  methodAERO  \\\n",
       "_time                                                               \n",
       "2019-11-19T06:30:00.000-0600  svc_bil_aeroassetsearch         0.0   \n",
       "2019-11-19T06:30:00.000-0600  svc_bil_aeroassetsearch         0.0   \n",
       "2019-11-19T06:30:00.000-0600  svc_bil_aeroassetsearch         0.0   \n",
       "2019-11-19T06:30:00.000-0600  svc_bil_aeroassetsearch         0.0   \n",
       "2019-11-19T06:30:00.000-0600  svc_bil_aeroassetsearch         0.0   \n",
       "\n",
       "                              avgResponseTime  \\\n",
       "_time                                           \n",
       "2019-11-19T06:30:00.000-0600         0.239816   \n",
       "2019-11-19T06:30:00.000-0600         0.061444   \n",
       "2019-11-19T06:30:00.000-0600         0.201724   \n",
       "2019-11-19T06:30:00.000-0600         0.303125   \n",
       "2019-11-19T06:30:00.000-0600         0.078922   \n",
       "\n",
       "                              JDBCStats_avgWaitingForConnectionsHigh  \\\n",
       "_time                                                                  \n",
       "2019-11-19T06:30:00.000-0600                                    24.0   \n",
       "2019-11-19T06:30:00.000-0600                                    24.0   \n",
       "2019-11-19T06:30:00.000-0600                                    24.0   \n",
       "2019-11-19T06:30:00.000-0600                                    17.0   \n",
       "2019-11-19T06:30:00.000-0600                                    17.0   \n",
       "\n",
       "                              JDBCStats_latestWaitingForConnectionsTotal  \\\n",
       "_time                                                                      \n",
       "2019-11-19T06:30:00.000-0600                                       525.0   \n",
       "2019-11-19T06:30:00.000-0600                                       525.0   \n",
       "2019-11-19T06:30:00.000-0600                                       525.0   \n",
       "2019-11-19T06:30:00.000-0600                                       522.0   \n",
       "2019-11-19T06:30:00.000-0600                                       522.0   \n",
       "\n",
       "                              JDBCStats_avgActiveConnectionsHigh  \\\n",
       "_time                                                              \n",
       "2019-11-19T06:30:00.000-0600                                25.0   \n",
       "2019-11-19T06:30:00.000-0600                                25.0   \n",
       "2019-11-19T06:30:00.000-0600                                25.0   \n",
       "2019-11-19T06:30:00.000-0600                                25.0   \n",
       "2019-11-19T06:30:00.000-0600                                25.0   \n",
       "\n",
       "                              JDBCStats_avgActiveConnectionsCurrent  \\\n",
       "_time                                                                 \n",
       "2019-11-19T06:30:00.000-0600                               0.333333   \n",
       "2019-11-19T06:30:00.000-0600                               0.333333   \n",
       "2019-11-19T06:30:00.000-0600                               0.333333   \n",
       "2019-11-19T06:30:00.000-0600                               0.000000   \n",
       "2019-11-19T06:30:00.000-0600                               0.000000   \n",
       "\n",
       "                              JDBCStats_avgCurrentCapacity  ...  \\\n",
       "_time                                                       ...   \n",
       "2019-11-19T06:30:00.000-0600                          10.0  ...   \n",
       "2019-11-19T06:30:00.000-0600                          10.0  ...   \n",
       "2019-11-19T06:30:00.000-0600                          10.0  ...   \n",
       "2019-11-19T06:30:00.000-0600                          10.0  ...   \n",
       "2019-11-19T06:30:00.000-0600                          10.0  ...   \n",
       "\n",
       "                              ManagedServerStats_avgHeapSizeMax  \\\n",
       "_time                                                             \n",
       "2019-11-19T06:30:00.000-0600                       1.064829e+09   \n",
       "2019-11-19T06:30:00.000-0600                       1.064829e+09   \n",
       "2019-11-19T06:30:00.000-0600                       1.064829e+09   \n",
       "2019-11-19T06:30:00.000-0600                       1.065878e+09   \n",
       "2019-11-19T06:30:00.000-0600                       1.065878e+09   \n",
       "\n",
       "                              ManagedServerStats_avgHeapSizeCurrent  \\\n",
       "_time                                                                 \n",
       "2019-11-19T06:30:00.000-0600                           3.309972e+08   \n",
       "2019-11-19T06:30:00.000-0600                           3.309972e+08   \n",
       "2019-11-19T06:30:00.000-0600                           3.309972e+08   \n",
       "2019-11-19T06:30:00.000-0600                           3.385032e+08   \n",
       "2019-11-19T06:30:00.000-0600                           3.385032e+08   \n",
       "\n",
       "                              ManagedServerStats_avgJVMUp  \\\n",
       "_time                                                       \n",
       "2019-11-19T06:30:00.000-0600                 4.479546e+09   \n",
       "2019-11-19T06:30:00.000-0600                 4.479546e+09   \n",
       "2019-11-19T06:30:00.000-0600                 4.479546e+09   \n",
       "2019-11-19T06:30:00.000-0600                 4.479575e+09   \n",
       "2019-11-19T06:30:00.000-0600                 4.479575e+09   \n",
       "\n",
       "                              ThreadPoolStats_avgTotalThreads  \\\n",
       "_time                                                           \n",
       "2019-11-19T06:30:00.000-0600                             52.0   \n",
       "2019-11-19T06:30:00.000-0600                             52.0   \n",
       "2019-11-19T06:30:00.000-0600                             52.0   \n",
       "2019-11-19T06:30:00.000-0600                             45.0   \n",
       "2019-11-19T06:30:00.000-0600                             45.0   \n",
       "\n",
       "                              ThreadPoolStats_avgInUseThreads  \\\n",
       "_time                                                           \n",
       "2019-11-19T06:30:00.000-0600                              2.0   \n",
       "2019-11-19T06:30:00.000-0600                              2.0   \n",
       "2019-11-19T06:30:00.000-0600                              2.0   \n",
       "2019-11-19T06:30:00.000-0600                              2.0   \n",
       "2019-11-19T06:30:00.000-0600                              2.0   \n",
       "\n",
       "                              ThreadPoolStats_avgIdleThreads  \\\n",
       "_time                                                          \n",
       "2019-11-19T06:30:00.000-0600                             1.0   \n",
       "2019-11-19T06:30:00.000-0600                             1.0   \n",
       "2019-11-19T06:30:00.000-0600                             1.0   \n",
       "2019-11-19T06:30:00.000-0600                             0.0   \n",
       "2019-11-19T06:30:00.000-0600                             0.0   \n",
       "\n",
       "                              ThreadPoolStats_avgHoggingThreads  \\\n",
       "_time                                                             \n",
       "2019-11-19T06:30:00.000-0600                                0.0   \n",
       "2019-11-19T06:30:00.000-0600                                0.0   \n",
       "2019-11-19T06:30:00.000-0600                                0.0   \n",
       "2019-11-19T06:30:00.000-0600                                0.0   \n",
       "2019-11-19T06:30:00.000-0600                                0.0   \n",
       "\n",
       "                              ThreadPoolStats_avgPendingRequests  \\\n",
       "_time                                                              \n",
       "2019-11-19T06:30:00.000-0600                                 0.0   \n",
       "2019-11-19T06:30:00.000-0600                                 0.0   \n",
       "2019-11-19T06:30:00.000-0600                                 0.0   \n",
       "2019-11-19T06:30:00.000-0600                                 0.0   \n",
       "2019-11-19T06:30:00.000-0600                                 0.0   \n",
       "\n",
       "                              ThreadPoolStats_avgQueueLength  \\\n",
       "_time                                                          \n",
       "2019-11-19T06:30:00.000-0600                             0.0   \n",
       "2019-11-19T06:30:00.000-0600                             0.0   \n",
       "2019-11-19T06:30:00.000-0600                             0.0   \n",
       "2019-11-19T06:30:00.000-0600                             0.0   \n",
       "2019-11-19T06:30:00.000-0600                             0.0   \n",
       "\n",
       "                              ThreadPoolStats_avgThroughput  \n",
       "_time                                                        \n",
       "2019-11-19T06:30:00.000-0600                      15.833333  \n",
       "2019-11-19T06:30:00.000-0600                      15.833333  \n",
       "2019-11-19T06:30:00.000-0600                      15.833333  \n",
       "2019-11-19T06:30:00.000-0600                      15.246730  \n",
       "2019-11-19T06:30:00.000-0600                      15.246730  \n",
       "\n",
       "[5 rows x 26 columns]"
      ]
     },
     "execution_count": 3,
     "metadata": {},
     "output_type": "execute_result"
    }
   ],
   "source": [
    "dataset.head()"
   ]
  },
  {
   "cell_type": "code",
   "execution_count": 11,
   "metadata": {},
   "outputs": [],
   "source": [
    "from sklearn import preprocessing"
   ]
  },
  {
   "cell_type": "code",
   "execution_count": 12,
   "metadata": {},
   "outputs": [],
   "source": [
    " le = preprocessing.LabelEncoder()\n",
    ">>> le.fit([\"paris\", \"paris\", \"tokyo\", \"amsterdam\"])\n",
    "LabelEncoder()\n",
    ">>> list(le.classes_)\n",
    "['amsterdam', 'paris', 'tokyo']\n",
    ">>> le.transform([\"tokyo\", \"tokyo\", \"paris\"]) \n",
    "array([2, 2, 1]...)\n",
    ">>> list(le.inverse_transform([2, 2, 1]))\n",
    "['tokyo', 'tokyo', 'paris']"
   ]
  },
  {
   "cell_type": "code",
   "execution_count": 18,
   "metadata": {},
   "outputs": [
    {
     "data": {
      "text/plain": [
       "LabelEncoder()"
      ]
     },
     "execution_count": 18,
     "metadata": {},
     "output_type": "execute_result"
    }
   ],
   "source": []
  },
  {
   "cell_type": "code",
   "execution_count": 19,
   "metadata": {},
   "outputs": [
    {
     "data": {
      "text/plain": [
       "array(['2', 'pat', 'quatro'], dtype='<U6')"
      ]
     },
     "execution_count": 19,
     "metadata": {},
     "output_type": "execute_result"
    }
   ],
   "source": []
  },
  {
   "cell_type": "code",
   "execution_count": 20,
   "metadata": {},
   "outputs": [
    {
     "data": {
      "text/plain": [
       "<bound method LabelEncoder.transform of LabelEncoder()>"
      ]
     },
     "execution_count": 20,
     "metadata": {},
     "output_type": "execute_result"
    }
   ],
   "source": []
  },
  {
   "cell_type": "code",
   "execution_count": null,
   "metadata": {},
   "outputs": [],
   "source": []
  },
  {
   "cell_type": "code",
   "execution_count": 10,
   "metadata": {},
   "outputs": [
    {
     "ename": "NameError",
     "evalue": "name 'training' is not defined",
     "output_type": "error",
     "traceback": [
      "\u001b[1;31m---------------------------------------------------------------------------\u001b[0m",
      "\u001b[1;31mNameError\u001b[0m                                 Traceback (most recent call last)",
      "\u001b[1;32m<ipython-input-10-8cb0a0266ae0>\u001b[0m in \u001b[0;36m<module>\u001b[1;34m\u001b[0m\n\u001b[1;32m----> 1\u001b[1;33m \u001b[0mtraining\u001b[0m\u001b[1;33m.\u001b[0m\u001b[0membarked\u001b[0m\u001b[1;33m.\u001b[0m\u001b[0mapply\u001b[0m\u001b[1;33m(\u001b[0m\u001b[0mLabelEncoder\u001b[0m\u001b[1;33m(\u001b[0m\u001b[0mdataset\u001b[0m\u001b[1;33m)\u001b[0m\u001b[1;33m.\u001b[0m\u001b[0mfit_transform\u001b[0m\u001b[1;33m)\u001b[0m\u001b[1;33m\u001b[0m\u001b[1;33m\u001b[0m\u001b[0m\n\u001b[0m",
      "\u001b[1;31mNameError\u001b[0m: name 'training' is not defined"
     ]
    }
   ],
   "source": [
    "training.embarked.apply(LabelEncoder(dataset).fit_transform)"
   ]
  },
  {
   "cell_type": "code",
   "execution_count": null,
   "metadata": {},
   "outputs": [],
   "source": []
  },
  {
   "cell_type": "code",
   "execution_count": 4,
   "metadata": {},
   "outputs": [
    {
     "data": {
      "text/plain": [
       "(87666, 26)"
      ]
     },
     "execution_count": 4,
     "metadata": {},
     "output_type": "execute_result"
    }
   ],
   "source": [
    "dataset.shape"
   ]
  },
  {
   "cell_type": "code",
   "execution_count": 14,
   "metadata": {},
   "outputs": [],
   "source": [
    "X = dataset.iloc[:, :-1].values #columns\n",
    "y = dataset.iloc[1::1].values #lines"
   ]
  },
  {
   "cell_type": "code",
   "execution_count": 6,
   "metadata": {},
   "outputs": [
    {
     "name": "stdout",
     "output_type": "stream",
     "text": [
      "[['AEROAssetSearchServerDRRO002A'\n",
      "  'svc_bil_aeroassetsearch-searchAssetByChild' 'svc_bil_aeroassetsearch'\n",
      "  ... 0.0 0.0 15.833333333333336]\n",
      " ['AEROAssetSearchServerDRRO002A'\n",
      "  'svc_bil_aeroassetsearch-searchAssetByIdList' 'svc_bil_aeroassetsearch'\n",
      "  ... 0.0 0.0 15.833333333333336]\n",
      " ['AEROAssetSearchServerDRRO002B' 'svc_bil_aeroassetsearch-getAsset'\n",
      "  'svc_bil_aeroassetsearch' ... 0.0 0.0 15.246730462978125]\n",
      " ...\n",
      " ['BigAEROAssetSearchServerDRRO054D'\n",
      "  'svc_bil_bigaeroassetsearch-searchByAssetIdList'\n",
      "  'svc_bil_bigaeroassetsearch' ... 0.0 0.0 7.5]\n",
      " ['BigAEROAssetSearchServerPRODRO051A'\n",
      "  'svc_bil_bigaeroassetsearch-searchByAssetIdList'\n",
      "  'svc_bil_bigaeroassetsearch' ... 0.0 0.0 6.5]\n",
      " ['BigAEROAssetSearchServerPRODRO051B'\n",
      "  'svc_bil_bigaeroassetsearch-searchByAssetIdList'\n",
      "  'svc_bil_bigaeroassetsearch' ... 0.0 0.0 20.989505247376307]]\n"
     ]
    }
   ],
   "source": [
    "print(y)"
   ]
  },
  {
   "cell_type": "code",
   "execution_count": 7,
   "metadata": {},
   "outputs": [],
   "source": [
    "from sklearn.model_selection import train_test_split\n",
    "\n"
   ]
  },
  {
   "cell_type": "code",
   "execution_count": 8,
   "metadata": {},
   "outputs": [
    {
     "ename": "ValueError",
     "evalue": "Found input variables with inconsistent numbers of samples: [87666, 87665]",
     "output_type": "error",
     "traceback": [
      "\u001b[1;31m---------------------------------------------------------------------------\u001b[0m",
      "\u001b[1;31mValueError\u001b[0m                                Traceback (most recent call last)",
      "\u001b[1;32m<ipython-input-8-d1b7e6bdb0a1>\u001b[0m in \u001b[0;36m<module>\u001b[1;34m\u001b[0m\n\u001b[1;32m----> 1\u001b[1;33m \u001b[0mX_train\u001b[0m\u001b[1;33m,\u001b[0m \u001b[0mX_test\u001b[0m\u001b[1;33m,\u001b[0m \u001b[0my_train\u001b[0m\u001b[1;33m,\u001b[0m \u001b[0my_test\u001b[0m \u001b[1;33m=\u001b[0m \u001b[0mtrain_test_split\u001b[0m \u001b[1;33m(\u001b[0m\u001b[0mX\u001b[0m\u001b[1;33m,\u001b[0m \u001b[0my\u001b[0m\u001b[1;33m,\u001b[0m \u001b[0mtest_size\u001b[0m\u001b[1;33m=\u001b[0m\u001b[1;36m0.20\u001b[0m\u001b[1;33m)\u001b[0m\u001b[1;33m\u001b[0m\u001b[1;33m\u001b[0m\u001b[0m\n\u001b[0m\u001b[0;32m      2\u001b[0m \u001b[1;33m\u001b[0m\u001b[0m\n\u001b[0;32m      3\u001b[0m \u001b[1;33m\u001b[0m\u001b[0m\n",
      "\u001b[1;32m~\\AppData\\Local\\Continuum\\anaconda3\\lib\\site-packages\\sklearn\\model_selection\\_split.py\u001b[0m in \u001b[0;36mtrain_test_split\u001b[1;34m(*arrays, **options)\u001b[0m\n\u001b[0;32m   2094\u001b[0m         \u001b[1;32mraise\u001b[0m \u001b[0mTypeError\u001b[0m\u001b[1;33m(\u001b[0m\u001b[1;34m\"Invalid parameters passed: %s\"\u001b[0m \u001b[1;33m%\u001b[0m \u001b[0mstr\u001b[0m\u001b[1;33m(\u001b[0m\u001b[0moptions\u001b[0m\u001b[1;33m)\u001b[0m\u001b[1;33m)\u001b[0m\u001b[1;33m\u001b[0m\u001b[1;33m\u001b[0m\u001b[0m\n\u001b[0;32m   2095\u001b[0m \u001b[1;33m\u001b[0m\u001b[0m\n\u001b[1;32m-> 2096\u001b[1;33m     \u001b[0marrays\u001b[0m \u001b[1;33m=\u001b[0m \u001b[0mindexable\u001b[0m\u001b[1;33m(\u001b[0m\u001b[1;33m*\u001b[0m\u001b[0marrays\u001b[0m\u001b[1;33m)\u001b[0m\u001b[1;33m\u001b[0m\u001b[1;33m\u001b[0m\u001b[0m\n\u001b[0m\u001b[0;32m   2097\u001b[0m \u001b[1;33m\u001b[0m\u001b[0m\n\u001b[0;32m   2098\u001b[0m     \u001b[0mn_samples\u001b[0m \u001b[1;33m=\u001b[0m \u001b[0m_num_samples\u001b[0m\u001b[1;33m(\u001b[0m\u001b[0marrays\u001b[0m\u001b[1;33m[\u001b[0m\u001b[1;36m0\u001b[0m\u001b[1;33m]\u001b[0m\u001b[1;33m)\u001b[0m\u001b[1;33m\u001b[0m\u001b[1;33m\u001b[0m\u001b[0m\n",
      "\u001b[1;32m~\\AppData\\Local\\Continuum\\anaconda3\\lib\\site-packages\\sklearn\\utils\\validation.py\u001b[0m in \u001b[0;36mindexable\u001b[1;34m(*iterables)\u001b[0m\n\u001b[0;32m    228\u001b[0m         \u001b[1;32melse\u001b[0m\u001b[1;33m:\u001b[0m\u001b[1;33m\u001b[0m\u001b[1;33m\u001b[0m\u001b[0m\n\u001b[0;32m    229\u001b[0m             \u001b[0mresult\u001b[0m\u001b[1;33m.\u001b[0m\u001b[0mappend\u001b[0m\u001b[1;33m(\u001b[0m\u001b[0mnp\u001b[0m\u001b[1;33m.\u001b[0m\u001b[0marray\u001b[0m\u001b[1;33m(\u001b[0m\u001b[0mX\u001b[0m\u001b[1;33m)\u001b[0m\u001b[1;33m)\u001b[0m\u001b[1;33m\u001b[0m\u001b[1;33m\u001b[0m\u001b[0m\n\u001b[1;32m--> 230\u001b[1;33m     \u001b[0mcheck_consistent_length\u001b[0m\u001b[1;33m(\u001b[0m\u001b[1;33m*\u001b[0m\u001b[0mresult\u001b[0m\u001b[1;33m)\u001b[0m\u001b[1;33m\u001b[0m\u001b[1;33m\u001b[0m\u001b[0m\n\u001b[0m\u001b[0;32m    231\u001b[0m     \u001b[1;32mreturn\u001b[0m \u001b[0mresult\u001b[0m\u001b[1;33m\u001b[0m\u001b[1;33m\u001b[0m\u001b[0m\n\u001b[0;32m    232\u001b[0m \u001b[1;33m\u001b[0m\u001b[0m\n",
      "\u001b[1;32m~\\AppData\\Local\\Continuum\\anaconda3\\lib\\site-packages\\sklearn\\utils\\validation.py\u001b[0m in \u001b[0;36mcheck_consistent_length\u001b[1;34m(*arrays)\u001b[0m\n\u001b[0;32m    203\u001b[0m     \u001b[1;32mif\u001b[0m \u001b[0mlen\u001b[0m\u001b[1;33m(\u001b[0m\u001b[0muniques\u001b[0m\u001b[1;33m)\u001b[0m \u001b[1;33m>\u001b[0m \u001b[1;36m1\u001b[0m\u001b[1;33m:\u001b[0m\u001b[1;33m\u001b[0m\u001b[1;33m\u001b[0m\u001b[0m\n\u001b[0;32m    204\u001b[0m         raise ValueError(\"Found input variables with inconsistent numbers of\"\n\u001b[1;32m--> 205\u001b[1;33m                          \" samples: %r\" % [int(l) for l in lengths])\n\u001b[0m\u001b[0;32m    206\u001b[0m \u001b[1;33m\u001b[0m\u001b[0m\n\u001b[0;32m    207\u001b[0m \u001b[1;33m\u001b[0m\u001b[0m\n",
      "\u001b[1;31mValueError\u001b[0m: Found input variables with inconsistent numbers of samples: [87666, 87665]"
     ]
    }
   ],
   "source": [
    "X_train, X_test, y_train, y_test = train_test_split (X, y, test_size=0.20)\n",
    "\n",
    "\n"
   ]
  },
  {
   "cell_type": "code",
   "execution_count": null,
   "metadata": {},
   "outputs": [],
   "source": [
    "from sklearn.preprocessing import StandardScaler\n",
    "scaler = StandardScaler()\n",
    "scaler.fit(X_train)\n",
    "\n",
    "X_train = scaler.transform(X_train)\n",
    "X_test = scaler.transform(X_test)"
   ]
  },
  {
   "cell_type": "code",
   "execution_count": null,
   "metadata": {},
   "outputs": [],
   "source": [
    "from sklearn.neighbors import KNeighborsClassifier\n",
    "classifier = KNeighborsClassifier(n_neighbors=5)\n",
    "classifier.fit(X_train, y_train)"
   ]
  },
  {
   "cell_type": "code",
   "execution_count": null,
   "metadata": {},
   "outputs": [],
   "source": [
    "y_pred = classifier.predict(X_test)"
   ]
  },
  {
   "cell_type": "code",
   "execution_count": null,
   "metadata": {},
   "outputs": [],
   "source": [
    "from sklearn.metrics import classification_report, confusion_matrix\n",
    "print(confusion_matrix(y_test, y_pred))\n",
    "print(classification_report(y_test, y_pred))"
   ]
  },
  {
   "cell_type": "code",
   "execution_count": null,
   "metadata": {},
   "outputs": [],
   "source": [
    "error = []\n",
    "\n",
    "# Calculating error for K values between 1 and 40\n",
    "for i in range(1, 40):\n",
    "    knn = KNeighborsClassifier(n_neighbors=i)\n",
    "    knn.fit(X_train, y_train)\n",
    "    pred_i = knn.predict(X_test)\n",
    "    error.append(np.mean(pred_i != y_test))"
   ]
  },
  {
   "cell_type": "code",
   "execution_count": null,
   "metadata": {},
   "outputs": [],
   "source": [
    "plt.figure(figsize=(12, 6))\n",
    "plt.plot(range(1, 40), error, color='red', linestyle='dashed', marker='o',\n",
    "         markerfacecolor='blue', markersize=10)\n",
    "plt.title('Error Rate K Value')\n",
    "plt.xlabel('K Value')\n",
    "plt.ylabel('Mean Error')"
   ]
  },
  {
   "cell_type": "code",
   "execution_count": 21,
   "metadata": {},
   "outputs": [],
   "source": []
  },
  {
   "cell_type": "code",
   "execution_count": 28,
   "metadata": {},
   "outputs": [],
   "source": [
    "import matplotlib.pyplot\n",
    "generation = ['1', '2', '3', '4', '5', '6']\n",
    "timeExec = [0.105235, 1.107697, 0.110256, 0.109236, 0.108859, 0.109986]"
   ]
  },
  {
   "cell_type": "code",
   "execution_count": 29,
   "metadata": {},
   "outputs": [
    {
     "data": {
      "image/png": "[encoded data removed]",
      "text/plain": [
       "<Figure size 432x288 with 1 Axes>"
      ]
     },
     "metadata": {
      "needs_background": "light"
     },
     "output_type": "display_data"
    }
   ],
   "source": [
    "matplotlib.pyplot.plot(generation, timeExec)\n",
    "matplotlib.pyplot.xlabel('Generation')\n",
    "matplotlib.pyplot.ylabel('Algorithm execution time')\n",
    "matplotlib.pyplot.title('Time analysis')\n",
    "matplotlib.pyplot.show()"
   ]
  },
  {
   "cell_type": "code",
   "execution_count": null,
   "metadata": {},
   "outputs": [],
   "source": []
  }
 ],
 "metadata": {
  "kernelspec": {
   "display_name": "Python 3",
   "language": "python",
   "name": "python3"
  },
  "language_info": {
   "codemirror_mode": {
    "name": "ipython",
    "version": 3
   },
   "file_extension": ".py",
   "mimetype": "text/x-python",
   "name": "python",
   "nbconvert_exporter": "python",
   "pygments_lexer": "ipython3",
   "version": "3.7.3"
  }
 },
 "nbformat": 4,
 "nbformat_minor": 2
}
